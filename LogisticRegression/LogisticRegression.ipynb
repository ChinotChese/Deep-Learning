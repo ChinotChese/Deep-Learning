{
  "nbformat": 4,
  "nbformat_minor": 0,
  "metadata": {
    "colab": {
      "provenance": []
    },
    "kernelspec": {
      "name": "python3",
      "display_name": "Python 3"
    },
    "language_info": {
      "name": "python"
    },
    "accelerator": "GPU",
    "gpuClass": "standard"
  },
  "cells": [
    {
      "cell_type": "markdown",
      "source": [
        "# EX1:"
      ],
      "metadata": {
        "id": "tK1ij8WyCsns"
      }
    },
    {
      "cell_type": "code",
      "execution_count": 38,
      "metadata": {
        "id": "PtdfJDgqZdXs",
        "colab": {
          "base_uri": "https://localhost:8080/",
          "height": 676
        },
        "outputId": "ccf6dfdd-92ef-4119-a199-a8c17482ac45"
      },
      "outputs": [
        {
          "output_type": "execute_result",
          "data": {
            "text/plain": [
              "    Lương  Thời gian làm việc  Cho vay\n",
              "0      10                1.00        1\n",
              "1       5                2.00        1\n",
              "2       6                1.80        1\n",
              "3       7                1.00        1\n",
              "4       8                2.00        1\n",
              "5       9                0.50        1\n",
              "6       4                3.00        1\n",
              "7       5                2.50        1\n",
              "8       8                1.00        1\n",
              "9       4                2.50        1\n",
              "10      8                0.10        0\n",
              "11      7                0.15        0\n",
              "12      4                1.00        0\n",
              "13      5                0.80        0\n",
              "14      7                0.30        0\n",
              "15      4                1.00        0\n",
              "16      5                0.50        0\n",
              "17      6                0.30        0\n",
              "18      7                0.20        0\n",
              "19      8                0.15        0"
            ],
            "text/html": [
              "\n",
              "  <div id=\"df-8831a541-695b-4388-a588-d911c05d07c0\">\n",
              "    <div class=\"colab-df-container\">\n",
              "      <div>\n",
              "<style scoped>\n",
              "    .dataframe tbody tr th:only-of-type {\n",
              "        vertical-align: middle;\n",
              "    }\n",
              "\n",
              "    .dataframe tbody tr th {\n",
              "        vertical-align: top;\n",
              "    }\n",
              "\n",
              "    .dataframe thead th {\n",
              "        text-align: right;\n",
              "    }\n",
              "</style>\n",
              "<table border=\"1\" class=\"dataframe\">\n",
              "  <thead>\n",
              "    <tr style=\"text-align: right;\">\n",
              "      <th></th>\n",
              "      <th>Lương</th>\n",
              "      <th>Thời gian làm việc</th>\n",
              "      <th>Cho vay</th>\n",
              "    </tr>\n",
              "  </thead>\n",
              "  <tbody>\n",
              "    <tr>\n",
              "      <th>0</th>\n",
              "      <td>10</td>\n",
              "      <td>1.00</td>\n",
              "      <td>1</td>\n",
              "    </tr>\n",
              "    <tr>\n",
              "      <th>1</th>\n",
              "      <td>5</td>\n",
              "      <td>2.00</td>\n",
              "      <td>1</td>\n",
              "    </tr>\n",
              "    <tr>\n",
              "      <th>2</th>\n",
              "      <td>6</td>\n",
              "      <td>1.80</td>\n",
              "      <td>1</td>\n",
              "    </tr>\n",
              "    <tr>\n",
              "      <th>3</th>\n",
              "      <td>7</td>\n",
              "      <td>1.00</td>\n",
              "      <td>1</td>\n",
              "    </tr>\n",
              "    <tr>\n",
              "      <th>4</th>\n",
              "      <td>8</td>\n",
              "      <td>2.00</td>\n",
              "      <td>1</td>\n",
              "    </tr>\n",
              "    <tr>\n",
              "      <th>5</th>\n",
              "      <td>9</td>\n",
              "      <td>0.50</td>\n",
              "      <td>1</td>\n",
              "    </tr>\n",
              "    <tr>\n",
              "      <th>6</th>\n",
              "      <td>4</td>\n",
              "      <td>3.00</td>\n",
              "      <td>1</td>\n",
              "    </tr>\n",
              "    <tr>\n",
              "      <th>7</th>\n",
              "      <td>5</td>\n",
              "      <td>2.50</td>\n",
              "      <td>1</td>\n",
              "    </tr>\n",
              "    <tr>\n",
              "      <th>8</th>\n",
              "      <td>8</td>\n",
              "      <td>1.00</td>\n",
              "      <td>1</td>\n",
              "    </tr>\n",
              "    <tr>\n",
              "      <th>9</th>\n",
              "      <td>4</td>\n",
              "      <td>2.50</td>\n",
              "      <td>1</td>\n",
              "    </tr>\n",
              "    <tr>\n",
              "      <th>10</th>\n",
              "      <td>8</td>\n",
              "      <td>0.10</td>\n",
              "      <td>0</td>\n",
              "    </tr>\n",
              "    <tr>\n",
              "      <th>11</th>\n",
              "      <td>7</td>\n",
              "      <td>0.15</td>\n",
              "      <td>0</td>\n",
              "    </tr>\n",
              "    <tr>\n",
              "      <th>12</th>\n",
              "      <td>4</td>\n",
              "      <td>1.00</td>\n",
              "      <td>0</td>\n",
              "    </tr>\n",
              "    <tr>\n",
              "      <th>13</th>\n",
              "      <td>5</td>\n",
              "      <td>0.80</td>\n",
              "      <td>0</td>\n",
              "    </tr>\n",
              "    <tr>\n",
              "      <th>14</th>\n",
              "      <td>7</td>\n",
              "      <td>0.30</td>\n",
              "      <td>0</td>\n",
              "    </tr>\n",
              "    <tr>\n",
              "      <th>15</th>\n",
              "      <td>4</td>\n",
              "      <td>1.00</td>\n",
              "      <td>0</td>\n",
              "    </tr>\n",
              "    <tr>\n",
              "      <th>16</th>\n",
              "      <td>5</td>\n",
              "      <td>0.50</td>\n",
              "      <td>0</td>\n",
              "    </tr>\n",
              "    <tr>\n",
              "      <th>17</th>\n",
              "      <td>6</td>\n",
              "      <td>0.30</td>\n",
              "      <td>0</td>\n",
              "    </tr>\n",
              "    <tr>\n",
              "      <th>18</th>\n",
              "      <td>7</td>\n",
              "      <td>0.20</td>\n",
              "      <td>0</td>\n",
              "    </tr>\n",
              "    <tr>\n",
              "      <th>19</th>\n",
              "      <td>8</td>\n",
              "      <td>0.15</td>\n",
              "      <td>0</td>\n",
              "    </tr>\n",
              "  </tbody>\n",
              "</table>\n",
              "</div>\n",
              "      <button class=\"colab-df-convert\" onclick=\"convertToInteractive('df-8831a541-695b-4388-a588-d911c05d07c0')\"\n",
              "              title=\"Convert this dataframe to an interactive table.\"\n",
              "              style=\"display:none;\">\n",
              "        \n",
              "  <svg xmlns=\"http://www.w3.org/2000/svg\" height=\"24px\"viewBox=\"0 0 24 24\"\n",
              "       width=\"24px\">\n",
              "    <path d=\"M0 0h24v24H0V0z\" fill=\"none\"/>\n",
              "    <path d=\"M18.56 5.44l.94 2.06.94-2.06 2.06-.94-2.06-.94-.94-2.06-.94 2.06-2.06.94zm-11 1L8.5 8.5l.94-2.06 2.06-.94-2.06-.94L8.5 2.5l-.94 2.06-2.06.94zm10 10l.94 2.06.94-2.06 2.06-.94-2.06-.94-.94-2.06-.94 2.06-2.06.94z\"/><path d=\"M17.41 7.96l-1.37-1.37c-.4-.4-.92-.59-1.43-.59-.52 0-1.04.2-1.43.59L10.3 9.45l-7.72 7.72c-.78.78-.78 2.05 0 2.83L4 21.41c.39.39.9.59 1.41.59.51 0 1.02-.2 1.41-.59l7.78-7.78 2.81-2.81c.8-.78.8-2.07 0-2.86zM5.41 20L4 18.59l7.72-7.72 1.47 1.35L5.41 20z\"/>\n",
              "  </svg>\n",
              "      </button>\n",
              "      \n",
              "  <style>\n",
              "    .colab-df-container {\n",
              "      display:flex;\n",
              "      flex-wrap:wrap;\n",
              "      gap: 12px;\n",
              "    }\n",
              "\n",
              "    .colab-df-convert {\n",
              "      background-color: #E8F0FE;\n",
              "      border: none;\n",
              "      border-radius: 50%;\n",
              "      cursor: pointer;\n",
              "      display: none;\n",
              "      fill: #1967D2;\n",
              "      height: 32px;\n",
              "      padding: 0 0 0 0;\n",
              "      width: 32px;\n",
              "    }\n",
              "\n",
              "    .colab-df-convert:hover {\n",
              "      background-color: #E2EBFA;\n",
              "      box-shadow: 0px 1px 2px rgba(60, 64, 67, 0.3), 0px 1px 3px 1px rgba(60, 64, 67, 0.15);\n",
              "      fill: #174EA6;\n",
              "    }\n",
              "\n",
              "    [theme=dark] .colab-df-convert {\n",
              "      background-color: #3B4455;\n",
              "      fill: #D2E3FC;\n",
              "    }\n",
              "\n",
              "    [theme=dark] .colab-df-convert:hover {\n",
              "      background-color: #434B5C;\n",
              "      box-shadow: 0px 1px 3px 1px rgba(0, 0, 0, 0.15);\n",
              "      filter: drop-shadow(0px 1px 2px rgba(0, 0, 0, 0.3));\n",
              "      fill: #FFFFFF;\n",
              "    }\n",
              "  </style>\n",
              "\n",
              "      <script>\n",
              "        const buttonEl =\n",
              "          document.querySelector('#df-8831a541-695b-4388-a588-d911c05d07c0 button.colab-df-convert');\n",
              "        buttonEl.style.display =\n",
              "          google.colab.kernel.accessAllowed ? 'block' : 'none';\n",
              "\n",
              "        async function convertToInteractive(key) {\n",
              "          const element = document.querySelector('#df-8831a541-695b-4388-a588-d911c05d07c0');\n",
              "          const dataTable =\n",
              "            await google.colab.kernel.invokeFunction('convertToInteractive',\n",
              "                                                     [key], {});\n",
              "          if (!dataTable) return;\n",
              "\n",
              "          const docLinkHtml = 'Like what you see? Visit the ' +\n",
              "            '<a target=\"_blank\" href=https://colab.research.google.com/notebooks/data_table.ipynb>data table notebook</a>'\n",
              "            + ' to learn more about interactive tables.';\n",
              "          element.innerHTML = '';\n",
              "          dataTable['output_type'] = 'display_data';\n",
              "          await google.colab.output.renderOutput(dataTable, element);\n",
              "          const docLink = document.createElement('div');\n",
              "          docLink.innerHTML = docLinkHtml;\n",
              "          element.appendChild(docLink);\n",
              "        }\n",
              "      </script>\n",
              "    </div>\n",
              "  </div>\n",
              "  "
            ]
          },
          "metadata": {},
          "execution_count": 38
        }
      ],
      "source": [
        "import pandas as pd\n",
        "df = pd.read_csv('/content/drive/MyDrive/Colab Notebooks/Deep Learning/W2/dataset.csv')\n",
        "df"
      ]
    },
    {
      "cell_type": "code",
      "source": [
        "import numpy as np\n",
        "import matplotlib.pyplot as plt"
      ],
      "metadata": {
        "id": "bdaVx0V3vs7T"
      },
      "execution_count": 39,
      "outputs": []
    },
    {
      "cell_type": "code",
      "source": [
        "data = df.values\n",
        "data.shape"
      ],
      "metadata": {
        "colab": {
          "base_uri": "https://localhost:8080/"
        },
        "id": "nzLeAv6Zwi9z",
        "outputId": "66b46d37-ac20-49bb-d31e-572930e9ea1f"
      },
      "execution_count": 40,
      "outputs": [
        {
          "output_type": "execute_result",
          "data": {
            "text/plain": [
              "(20, 3)"
            ]
          },
          "metadata": {},
          "execution_count": 40
        }
      ]
    },
    {
      "cell_type": "code",
      "source": [
        "N, d = data.shape\n",
        "x = data[:, :d-1].reshape(-1, d-1)\n",
        "y = data[:, 2].reshape(-1, 1)"
      ],
      "metadata": {
        "id": "-sXHLeoZzFqQ"
      },
      "execution_count": 41,
      "outputs": []
    },
    {
      "cell_type": "code",
      "source": [
        "data"
      ],
      "metadata": {
        "colab": {
          "base_uri": "https://localhost:8080/"
        },
        "id": "WdEKTxALWkN2",
        "outputId": "a9f5776e-45a0-4c74-f7a4-43fc893128e5"
      },
      "execution_count": 42,
      "outputs": [
        {
          "output_type": "execute_result",
          "data": {
            "text/plain": [
              "array([[10.  ,  1.  ,  1.  ],\n",
              "       [ 5.  ,  2.  ,  1.  ],\n",
              "       [ 6.  ,  1.8 ,  1.  ],\n",
              "       [ 7.  ,  1.  ,  1.  ],\n",
              "       [ 8.  ,  2.  ,  1.  ],\n",
              "       [ 9.  ,  0.5 ,  1.  ],\n",
              "       [ 4.  ,  3.  ,  1.  ],\n",
              "       [ 5.  ,  2.5 ,  1.  ],\n",
              "       [ 8.  ,  1.  ,  1.  ],\n",
              "       [ 4.  ,  2.5 ,  1.  ],\n",
              "       [ 8.  ,  0.1 ,  0.  ],\n",
              "       [ 7.  ,  0.15,  0.  ],\n",
              "       [ 4.  ,  1.  ,  0.  ],\n",
              "       [ 5.  ,  0.8 ,  0.  ],\n",
              "       [ 7.  ,  0.3 ,  0.  ],\n",
              "       [ 4.  ,  1.  ,  0.  ],\n",
              "       [ 5.  ,  0.5 ,  0.  ],\n",
              "       [ 6.  ,  0.3 ,  0.  ],\n",
              "       [ 7.  ,  0.2 ,  0.  ],\n",
              "       [ 8.  ,  0.15,  0.  ]])"
            ]
          },
          "metadata": {},
          "execution_count": 42
        }
      ]
    },
    {
      "cell_type": "code",
      "source": [
        "yes_idx = np.where(data[:, 2]==1)\n",
        "yes_idx = yes_idx[0]\n",
        "no_idx = np.where(data[:, 2]==0)\n",
        "no_idx = no_idx[0]"
      ],
      "metadata": {
        "id": "_QcbPGk8WWz_"
      },
      "execution_count": 43,
      "outputs": []
    },
    {
      "cell_type": "code",
      "source": [
        "plt.scatter(x[yes_idx, 0], x[yes_idx, 1], c='red', edgecolors='none', s=30, label='cho vay')\n",
        "plt.scatter(x[no_idx, 0], x[no_idx, 1], c='blue', edgecolors='none', s=30, label='từ chối')\n",
        "plt.legend(loc=1)\n",
        "plt.xlabel('mức lương (triệu)')\n",
        "plt.ylabel('kinh nghiệm (năm)')\n",
        "plt.show()"
      ],
      "metadata": {
        "colab": {
          "base_uri": "https://localhost:8080/",
          "height": 280
        },
        "id": "WunqtdEr0YRy",
        "outputId": "e7c4d242-0a08-434c-b2af-335718214f86"
      },
      "execution_count": 44,
      "outputs": [
        {
          "output_type": "display_data",
          "data": {
            "text/plain": [
              "<Figure size 432x288 with 1 Axes>"
            ],
            "image/png": "[encoded data removed]"
          },
          "metadata": {
            "needs_background": "light"
          }
        }
      ]
    },
    {
      "cell_type": "code",
      "source": [
        "X = np.hstack((np.ones((N, 1)), x))\n",
        "X"
      ],
      "metadata": {
        "colab": {
          "base_uri": "https://localhost:8080/"
        },
        "id": "3etQFd0e0OY6",
        "outputId": "4254948d-5d11-40fe-9755-1bc3d5093e00"
      },
      "execution_count": 45,
      "outputs": [
        {
          "output_type": "execute_result",
          "data": {
            "text/plain": [
              "array([[ 1.  , 10.  ,  1.  ],\n",
              "       [ 1.  ,  5.  ,  2.  ],\n",
              "       [ 1.  ,  6.  ,  1.8 ],\n",
              "       [ 1.  ,  7.  ,  1.  ],\n",
              "       [ 1.  ,  8.  ,  2.  ],\n",
              "       [ 1.  ,  9.  ,  0.5 ],\n",
              "       [ 1.  ,  4.  ,  3.  ],\n",
              "       [ 1.  ,  5.  ,  2.5 ],\n",
              "       [ 1.  ,  8.  ,  1.  ],\n",
              "       [ 1.  ,  4.  ,  2.5 ],\n",
              "       [ 1.  ,  8.  ,  0.1 ],\n",
              "       [ 1.  ,  7.  ,  0.15],\n",
              "       [ 1.  ,  4.  ,  1.  ],\n",
              "       [ 1.  ,  5.  ,  0.8 ],\n",
              "       [ 1.  ,  7.  ,  0.3 ],\n",
              "       [ 1.  ,  4.  ,  1.  ],\n",
              "       [ 1.  ,  5.  ,  0.5 ],\n",
              "       [ 1.  ,  6.  ,  0.3 ],\n",
              "       [ 1.  ,  7.  ,  0.2 ],\n",
              "       [ 1.  ,  8.  ,  0.15]])"
            ]
          },
          "metadata": {},
          "execution_count": 45
        }
      ]
    },
    {
      "cell_type": "code",
      "source": [
        "def sigmoid(x):\n",
        "    return 1 / (1 + np.exp(-x))"
      ],
      "metadata": {
        "id": "C8AbROzE3AVF"
      },
      "execution_count": 46,
      "outputs": []
    },
    {
      "cell_type": "code",
      "source": [
        "def train(X, y, learning_rate, iteration, W):\n",
        "    if W is None:\n",
        "        W = np.random.rand(X.shape[1], 1)\n",
        "    loss = np.zeros(iteration)\n",
        "    stop = 0\n",
        "    for i in range(1, iteration):\n",
        "        y_pre = sigmoid(X @ W)\n",
        "        loss[i] = -np.sum(y*np.log(y_pre) + (1-y)*np.log(1-y_pre))\n",
        "        if abs(loss[i]-loss[i-1]) < 1e-6:\n",
        "            stop = i\n",
        "            break\n",
        "        delta = X.T @ (y_pre - y)\n",
        "        W = W - learning_rate*delta\n",
        "        if i%10000 == 0:\n",
        "            print(i, ':', loss[i])\n",
        "    \n",
        "    # plot loss\n",
        "    x = np.arange(1, stop+1)\n",
        "    y = loss[1:stop+1]\n",
        "    \n",
        "    plt.title(\"Loss by iteration\")\n",
        "    plt.xlabel(\"Iteration\")\n",
        "    plt.ylabel(\"Loss\")\n",
        "    plt.plot(x, y, color =\"red\")\n",
        "    plt.show()\n",
        "    return W"
      ],
      "metadata": {
        "id": "VQklIMFi5bc2"
      },
      "execution_count": 49,
      "outputs": []
    },
    {
      "cell_type": "markdown",
      "source": [
        "Train lan 1"
      ],
      "metadata": {
        "id": "sONjvPc9Lb77"
      }
    },
    {
      "cell_type": "code",
      "source": [
        "W = train(X, y, 0.01, 100000, None)"
      ],
      "metadata": {
        "colab": {
          "base_uri": "https://localhost:8080/",
          "height": 416
        },
        "id": "B1h2PX3G-L_I",
        "outputId": "0cc61855-abb3-4f00-df81-ecced4cbe414"
      },
      "execution_count": 50,
      "outputs": [
        {
          "output_type": "stream",
          "name": "stdout",
          "text": [
            "10000 : 0.496983888346163\n",
            "20000 : 0.26553608599649986\n",
            "30000 : 0.1822796437572493\n",
            "40000 : 0.13912450394352102\n",
            "50000 : 0.11264952011396756\n",
            "60000 : 0.09472331646127155\n",
            "70000 : 0.0817684869237445\n"
          ]
        },
        {
          "output_type": "display_data",
          "data": {
            "text/plain": [
              "<Figure size 432x288 with 1 Axes>"
            ],
            "image/png": "[encoded data removed]"
          },
          "metadata": {
            "needs_background": "light"
          }
        }
      ]
    },
    {
      "cell_type": "code",
      "source": [
        "W"
      ],
      "metadata": {
        "id": "axWYg7UD0yKX",
        "colab": {
          "base_uri": "https://localhost:8080/"
        },
        "outputId": "a42a9bc4-217d-4cfa-849f-5dac553a30b2"
      },
      "execution_count": 51,
      "outputs": [
        {
          "output_type": "execute_result",
          "data": {
            "text/plain": [
              "array([[-32.33065885],\n",
              "       [  3.24260423],\n",
              "       [ 13.9945079 ]])"
            ]
          },
          "metadata": {},
          "execution_count": 51
        }
      ]
    },
    {
      "cell_type": "code",
      "source": [
        "plt.scatter(x[yes_idx, 0], x[yes_idx, 1], c='red', edgecolors='none', s=30, label='cho vay')\n",
        "plt.scatter(x[no_idx, 0], x[no_idx, 1], c='blue', edgecolors='none', s=30, label='từ chối')\n",
        "plt.legend(loc=1)\n",
        "plt.xlabel('mức lương (triệu)')\n",
        "plt.ylabel('kinh nghiệm (năm)')\n",
        "t = 0.5\n",
        "plt.plot((4, 10),(-(W[0]+4*W[1]+ np.log(1/t-1))/W[2], -(W[0] + 10*W[1]+ np.log(1/t-1))/W[2]), 'g')\n",
        "plt.show()"
      ],
      "metadata": {
        "id": "C_vl4bfa7ZWV",
        "colab": {
          "base_uri": "https://localhost:8080/",
          "height": 280
        },
        "outputId": "4d8aee3f-861e-4c9e-999a-c8008c2e3f75"
      },
      "execution_count": 52,
      "outputs": [
        {
          "output_type": "display_data",
          "data": {
            "text/plain": [
              "<Figure size 432x288 with 1 Axes>"
            ],
            "image/png": "[encoded data removed]"
          },
          "metadata": {
            "needs_background": "light"
          }
        }
      ]
    },
    {
      "cell_type": "code",
      "source": [
        "test = np.array([1, 6, 1])\n",
        "predict = sigmoid(test@W)\n",
        "predict[0]"
      ],
      "metadata": {
        "id": "MH6yAtJr9f1X",
        "colab": {
          "base_uri": "https://localhost:8080/"
        },
        "outputId": "d912d608-1d1f-4646-8de2-e69c9f773204"
      },
      "execution_count": 53,
      "outputs": [
        {
          "output_type": "execute_result",
          "data": {
            "text/plain": [
              "0.7538912180662253"
            ]
          },
          "metadata": {},
          "execution_count": 53
        }
      ]
    },
    {
      "cell_type": "markdown",
      "source": [
        "p>0.5 -> cho vay"
      ],
      "metadata": {
        "id": "y8_v3osZDX7r"
      }
    }
  ]
}